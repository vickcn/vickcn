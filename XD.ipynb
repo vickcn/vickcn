{
 "metadata": {
  "name": "XD"
 }, 
 "nbformat": 2, 
 "worksheets": [
  {
   "cells": [
    {
     "cell_type": "code", 
     "collapsed": true, 
     "input": [
      "123"
     ], 
     "language": "python", 
     "outputs": []
    }
   ]
  }
 ]
}